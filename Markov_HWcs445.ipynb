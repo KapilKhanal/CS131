{
  "nbformat": 4,
  "nbformat_minor": 0,
  "metadata": {
    "colab": {
      "name": "Markov HWcs445",
      "version": "0.3.2",
      "provenance": [],
      "collapsed_sections": [],
      "include_colab_link": true
    },
    "kernelspec": {
      "name": "python3",
      "display_name": "Python 3"
    }
  },
  "cells": [
    {
      "cell_type": "markdown",
      "metadata": {
        "id": "view-in-github",
        "colab_type": "text"
      },
      "source": [
        "<a href=\"https://colab.research.google.com/github/KapilKhanal/CS131/blob/master/Markov_HWcs445.ipynb\" target=\"_parent\"><img src=\"https://colab.research.google.com/assets/colab-badge.svg\" alt=\"Open In Colab\"/></a>"
      ]
    },
    {
      "metadata": {
        "id": "u8YXZc8UsujV",
        "colab_type": "code",
        "colab": {}
      },
      "cell_type": "code",
      "source": [
        "\n"
      ],
      "execution_count": 0,
      "outputs": []
    },
    {
      "metadata": {
        "id": "Q0v1pWMLI7Pz",
        "colab_type": "code",
        "outputId": "44ef7f56-19a4-406e-ad4a-d67a7af75d9d",
        "colab": {
          "base_uri": "https://localhost:8080/",
          "height": 744
        }
      },
      "cell_type": "code",
      "source": [
        "#User will provide True, False as T and F for the observation.\n",
        "import numpy as np\n",
        "import matplotlib.pyplot as plt\n",
        "def umbrella_func(list_observation,transition_matrix):\n",
        "  O_TRUE = np.matrix([[0.9,0],[0,0.2]])\n",
        "  O_FALSE = np.matrix([[0.1,0],[0,0.8]])\n",
        "  RO_prior = np.matrix([[0.5],[0.5]])\n",
        "  normalize = lambda x:x/x.sum()\n",
        "  \n",
        "  result = RO_prior\n",
        "  \n",
        "  probabilities = [RO_prior[0]]\n",
        "  \n",
        "  for observation in list_observation:\n",
        "    if observation == 'T':\n",
        "      observation_matrix = O_TRUE\n",
        "    elif observation == 'F':\n",
        "      observation_matrix = O_FALSE\n",
        "    else:\n",
        "      raise \"Error on input. Did it rain or nor?\"\n",
        " \n",
        "    result = normalize(observation_matrix * transition_matrix.transpose()*result) \n",
        "   \n",
        "    probabilities.append(np.float(result[0]))\n",
        "    #plotting\n",
        "  print(\"The result after \",len(observation_string) ,\"many days is\",result)\n",
        "  \n",
        "  fig, ax = plt.subplots(figsize=(12, 12))\n",
        "  fig.subplots_adjust(bottom=0.15, left=0.2)\n",
        "  time = list(range(0,len(list_observation)+1))\n",
        "  ax.plot(time,probabilities)\n",
        "  ax.set_xlabel('Days[T] [s]')\n",
        "  ax.set_ylabel('Probability of Rain: True')\n",
        "  plt.savefig(\"Probabiltychart.png\")\n",
        "  plt.show()\n",
        " \n",
        "\n",
        "  \n",
        "  \n",
        "  return result\n",
        "  \n",
        "if __name__ == \"__main__\":\n",
        "  \n",
        "  observation_string = str(input(\"Observation(T or F) as a string for as many days as you want,Example(\\\"TFTFTFTF\\\") \"))\n",
        "  observationList = [char for char in observation_string]\n",
        "  \n",
        "  transitionMatrix = np.matrix([[0.7, 0.3],\n",
        "                [0.3, 0.7]])\n",
        "  \n",
        "  r = umbrella_func(observationList,transitionMatrix)\n",
        "  "
      ],
      "execution_count": 0,
      "outputs": [
        {
          "output_type": "stream",
          "text": [
            "Observation(T or F) as a string for as many days as you want,Example(\"TFTFTFTF\") TTTTTTTTT\n",
            "The result after  9 many days is [[0.89674555]\n",
            " [0.10325445]]\n"
          ],
          "name": "stdout"
        },
        {
          "output_type": "display_data",
          "data": {
            "image/png": "[encoded data removed]",
            "text/plain": [
              "<Figure size 864x864 with 1 Axes>"
            ]
          },
          "metadata": {
            "tags": []
          }
        }
      ]
    },
    {
      "metadata": {
        "id": "nLlVEMG9LvY0",
        "colab_type": "code",
        "colab": {}
      },
      "cell_type": "code",
      "source": [
        "import numpy as np\n",
        "transition_matrix = np.matrix([[0,1/2,0,1/2,0,0,0,0,0],\n",
        "                              [1,0,0,0,0,0,0,0,0],\n",
        "                              [0,0,0,0,0,0,0,0,0],\n",
        "                              [1/2,0,0,0,0,0,1/2,0,0],\n",
        "                              [0,0,0,0,0,0,0,0,0],\n",
        "                              [0,0,0,0,0,0,0,0,1],\n",
        "                              [0,0,0,1/2,0,0,0,1/2,0],\n",
        "                              [0,0,0,0,0,0,1/2,0,1/2],\n",
        "                              [0,0,0,0,0,1/2,0,1/2,0]])"
      ],
      "execution_count": 0,
      "outputs": []
    },
    {
      "metadata": {
        "id": "4PSmzUm-Tob5",
        "colab_type": "code",
        "outputId": "ea91a270-aba3-4074-ace9-adef679bd875",
        "colab": {
          "base_uri": "https://localhost:8080/",
          "height": 323
        }
      },
      "cell_type": "code",
      "source": [
        "sensor_model = np.zeros((9,9))\n",
        "sensor_model[0,0] = ((0.85)**2)*(.15)**2\n",
        "sensor_model[1,1] =((0.85)**3)*(.15)**1\n",
        "sensor_model[2,2] =0\n",
        "sensor_model[3,3] =((0.85)**2)*(.15)**2\n",
        "sensor_model[4,4] =0\n",
        "sensor_model[5,5] =((0.85)**3)*(.15)**1\n",
        "sensor_model[6,6] =((0.85)**4)\n",
        "sensor_model[7,7] =((0.85)**2)*(.15)**2\n",
        "sensor_model[8,8] =((0.85)**2)*(.15)**2\n",
        "\n",
        "sensor_model\n"
      ],
      "execution_count": 0,
      "outputs": [
        {
          "output_type": "execute_result",
          "data": {
            "text/plain": [
              "array([[0.01625625, 0.        , 0.        , 0.        , 0.        ,\n",
              "        0.        , 0.        , 0.        , 0.        ],\n",
              "       [0.        , 0.09211875, 0.        , 0.        , 0.        ,\n",
              "        0.        , 0.        , 0.        , 0.        ],\n",
              "       [0.        , 0.        , 0.        , 0.        , 0.        ,\n",
              "        0.        , 0.        , 0.        , 0.        ],\n",
              "       [0.        , 0.        , 0.        , 0.01625625, 0.        ,\n",
              "        0.        , 0.        , 0.        , 0.        ],\n",
              "       [0.        , 0.        , 0.        , 0.        , 0.        ,\n",
              "        0.        , 0.        , 0.        , 0.        ],\n",
              "       [0.        , 0.        , 0.        , 0.        , 0.        ,\n",
              "        0.09211875, 0.        , 0.        , 0.        ],\n",
              "       [0.        , 0.        , 0.        , 0.        , 0.        ,\n",
              "        0.        , 0.52200625, 0.        , 0.        ],\n",
              "       [0.        , 0.        , 0.        , 0.        , 0.        ,\n",
              "        0.        , 0.        , 0.01625625, 0.        ],\n",
              "       [0.        , 0.        , 0.        , 0.        , 0.        ,\n",
              "        0.        , 0.        , 0.        , 0.01625625]])"
            ]
          },
          "metadata": {
            "tags": []
          },
          "execution_count": 11
        }
      ]
    },
    {
      "metadata": {
        "id": "Bo0QoXBv2wQG",
        "colab_type": "code",
        "outputId": "2159c0bc-96ea-4fcd-c6cd-2aca4df96a45",
        "colab": {
          "base_uri": "https://localhost:8080/",
          "height": 34
        }
      },
      "cell_type": "code",
      "source": [
        "prior = np.matrix([[((0.85)**2)*(.15)**2,((0.85)**3)*(.15)**1,((0.85)**2)*(.15)**2,\n",
        "                    ((0.85)**2)*(.15)**2,((0.85)**2)*(.15)**2,((0.85)**2)*(.15)**2,\n",
        "                    ((0.85)**2)*(.15)**2,((0.85)**2)*(.15)**2,((0.85)**3)*(.15)**1]])\n",
        "prior = prior.T #it should be 9 by 1 not 1 by 9 so transpose\n",
        "prior.shape"
      ],
      "execution_count": 0,
      "outputs": [
        {
          "output_type": "execute_result",
          "data": {
            "text/plain": [
              "(9, 1)"
            ]
          },
          "metadata": {
            "tags": []
          },
          "execution_count": 16
        }
      ]
    },
    {
      "metadata": {
        "id": "FO4nE8rm5N7o",
        "colab_type": "code",
        "outputId": "3ce48573-35e9-4fff-8b48-9b38ac081fd8",
        "colab": {
          "base_uri": "https://localhost:8080/",
          "height": 170
        }
      },
      "cell_type": "code",
      "source": [
        " normalize = lambda x:x/x.sum()\n",
        "normalize((sensor_model*transition_matrix.T)*prior)"
      ],
      "execution_count": 0,
      "outputs": [
        {
          "output_type": "execute_result",
          "data": {
            "text/plain": [
              "matrix([[0.0978836 ],\n",
              "        [0.04497354],\n",
              "        [0.        ],\n",
              "        [0.01587302],\n",
              "        [0.        ],\n",
              "        [0.25485009],\n",
              "        [0.50970018],\n",
              "        [0.05291005],\n",
              "        [0.02380952]])"
            ]
          },
          "metadata": {
            "tags": []
          },
          "execution_count": 17
        }
      ]
    },
    {
      "metadata": {
        "id": "uVCFycgH54c2",
        "colab_type": "code",
        "colab": {}
      },
      "cell_type": "code",
      "source": [
        ""
      ],
      "execution_count": 0,
      "outputs": []
    }
  ]
}