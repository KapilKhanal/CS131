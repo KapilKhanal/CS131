{
  "nbformat": 4,
  "nbformat_minor": 0,
  "metadata": {
    "colab": {
      "name": "VacuumWorld.ipynb",
      "version": "0.3.2",
      "provenance": [],
      "include_colab_link": true
    },
    "language_info": {
      "codemirror_mode": {
        "name": "ipython",
        "version": 3
      },
      "file_extension": ".py",
      "mimetype": "text/x-python",
      "name": "python",
      "nbconvert_exporter": "python",
      "pygments_lexer": "ipython3",
      "version": "3.6.7"
    },
    "kernelspec": {
      "display_name": "Python 3",
      "language": "python",
      "name": "python3"
    }
  },
  "cells": [
    {
      "cell_type": "markdown",
      "metadata": {
        "id": "view-in-github",
        "colab_type": "text"
      },
      "source": [
        "<a href=\"https://colab.research.google.com/github/KapilKhanal/CS131/blob/master/VacuumWorld.ipynb\" target=\"_parent\"><img src=\"https://colab.research.google.com/assets/colab-badge.svg\" alt=\"Open In Colab\"/></a>"
      ]
    },
    {
      "metadata": {
        "id": "JvjdWA6dUsda",
        "colab_type": "code",
        "colab": {}
      },
      "cell_type": "code",
      "source": [
        "def dirt_search(graph, start,dirt = ['B','C','D']):\n",
        "    dirt = set(dirt)\n",
        "    visited, stack = set(), [list(graph[start])[0]]\n",
        "    print(start)\n",
        "    while stack:\n",
        "        vertex = stack.pop()\n",
        "        print(vertex)\n",
        "        if (vertex not in visited):\n",
        "            if vertex in dirt:\n",
        "                print(\"Dirt found and cleaned\")\n",
        "                dirt = dirt.difference(set(vertex))\n",
        "                \n",
        "                print(dirt)\n",
        "                if len(dirt) == 0:\n",
        "                    print('All Cleaned')\n",
        "                    break\n",
        "            visited.add(vertex)\n",
        "            stack.extend(graph[vertex] - visited)\n",
        "    return None"
      ],
      "execution_count": 0,
      "outputs": []
    },
    {
      "metadata": {
        "id": "kduXtEXrUsdd",
        "colab_type": "text"
      },
      "cell_type": "markdown",
      "source": [
        "Say the graph is structured as below.With Dirt on B,C,D <br>\n",
        "[B,C,D]<br>\n",
        "[E,A,F]<br>\n",
        "[G,H,I]<br>\n",
        "\n"
      ]
    },
    {
      "metadata": {
        "id": "JffmLYx7Usde",
        "colab_type": "code",
        "colab": {}
      },
      "cell_type": "code",
      "source": [
        "graph = {'A': set(['C','E','F','H']),\n",
        "         'B': set(['C', 'E']),\n",
        "         'C': set(['B','D']),\n",
        "         'D': set(['C','F']),\n",
        "         'E': set(['B', 'A','G']),\n",
        "         'F': set(['A', 'D','I']),\n",
        "        'G': set(['H','E']),\n",
        "        'H': set(['A', 'G','I']),\n",
        "        'I': set(['H', 'F'])}"
      ],
      "execution_count": 0,
      "outputs": []
    },
    {
      "metadata": {
        "id": "v7_w2XONUsdg",
        "colab_type": "code",
        "colab": {
          "base_uri": "https://localhost:8080/",
          "height": 289
        },
        "outputId": "5af792b2-f84d-4b01-d386-2e0e304249db"
      },
      "cell_type": "code",
      "source": [
        "dirt_search(graph,'A',dirt = ['B','C','D'])"
      ],
      "execution_count": 3,
      "outputs": [
        {
          "output_type": "stream",
          "text": [
            "A\n",
            "E\n",
            "G\n",
            "H\n",
            "A\n",
            "F\n",
            "D\n",
            "Dirt found and cleaned\n",
            "{'B', 'C'}\n",
            "C\n",
            "Dirt found and cleaned\n",
            "{'B'}\n",
            "B\n",
            "Dirt found and cleaned\n",
            "set()\n",
            "All Cleaned\n"
          ],
          "name": "stdout"
        }
      ]
    },
    {
      "metadata": {
        "id": "N7WyJhpMUsdk",
        "colab_type": "code",
        "colab": {}
      },
      "cell_type": "code",
      "source": [
        ""
      ],
      "execution_count": 0,
      "outputs": []
    }
  ]
}